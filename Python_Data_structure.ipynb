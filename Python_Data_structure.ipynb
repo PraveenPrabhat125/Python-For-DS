{
  "nbformat": 4,
  "nbformat_minor": 0,
  "metadata": {
    "colab": {
      "provenance": []
    },
    "kernelspec": {
      "name": "python3",
      "display_name": "Python 3"
    },
    "language_info": {
      "name": "python"
    }
  },
  "cells": [
    {
      "cell_type": "markdown",
      "source": [
        "**Python Data structure**"
      ],
      "metadata": {
        "id": "eSbvuCtlbFrQ"
      }
    },
    {
      "cell_type": "markdown",
      "source": [
        "# Topics\n",
        "\n",
        "\n",
        "1.   Booleans\n",
        "2.   logical operator\n",
        "3.   List\n",
        "4.   Comparision operator\n",
        "5.   Dictionaries\n",
        "6.   Tuples\n",
        "7.   Sets\n",
        "\n",
        "\n",
        "\n"
      ],
      "metadata": {
        "id": "JrtqesAbbP2Q"
      }
    },
    {
      "cell_type": "markdown",
      "source": [
        "Boolean Variables\n",
        ": Boolean values are the two constant objects False and True"
      ],
      "metadata": {
        "id": "NjJkaggKbtxF"
      }
    },
    {
      "cell_type": "code",
      "source": [
        "False"
      ],
      "metadata": {
        "colab": {
          "base_uri": "https://localhost:8080/"
        },
        "id": "6zQdAaAYbtfp",
        "outputId": "28bd30ec-5698-4a54-ae34-93bf19fc0894"
      },
      "execution_count": 3,
      "outputs": [
        {
          "output_type": "execute_result",
          "data": {
            "text/plain": [
              "False"
            ]
          },
          "metadata": {},
          "execution_count": 3
        }
      ]
    },
    {
      "cell_type": "code",
      "source": [],
      "metadata": {
        "id": "NAvwriGIl2YJ"
      },
      "execution_count": null,
      "outputs": []
    },
    {
      "cell_type": "markdown",
      "source": [
        "Print(True, False)"
      ],
      "metadata": {
        "id": "FDC4kjZGZaw8"
      }
    },
    {
      "cell_type": "code",
      "source": [
        "# check data type\n",
        "type(True)"
      ],
      "metadata": {
        "colab": {
          "base_uri": "https://localhost:8080/"
        },
        "id": "xQFyiQMocAfA",
        "outputId": "cf0c75b2-35b6-4b50-ddb5-7592f80c5444"
      },
      "execution_count": 4,
      "outputs": [
        {
          "output_type": "execute_result",
          "data": {
            "text/plain": [
              "bool"
            ]
          },
          "metadata": {},
          "execution_count": 4
        }
      ]
    },
    {
      "cell_type": "code",
      "source": [
        "# strings\n",
        "str = \"John\"\n",
        "print(str)"
      ],
      "metadata": {
        "colab": {
          "base_uri": "https://localhost:8080/"
        },
        "id": "JtepZe8pcG5F",
        "outputId": "f2154204-8be6-4e45-c518-3e2dbd4b8c90"
      },
      "execution_count": 5,
      "outputs": [
        {
          "output_type": "stream",
          "name": "stdout",
          "text": [
            "John\n"
          ]
        }
      ]
    },
    {
      "cell_type": "code",
      "source": [
        "str.istitle()"
      ],
      "metadata": {
        "colab": {
          "base_uri": "https://localhost:8080/"
        },
        "id": "VSjCvRQ6cPcs",
        "outputId": "c0ae0bb6-615b-41cc-843d-3ac891d3c03d"
      },
      "execution_count": 6,
      "outputs": [
        {
          "output_type": "execute_result",
          "data": {
            "text/plain": [
              "True"
            ]
          },
          "metadata": {},
          "execution_count": 6
        }
      ]
    },
    {
      "cell_type": "code",
      "source": [
        "print(str.capitalize()) # More specifically, make the first character have upper case and the rest lower\n",
        "print(str.count('9'))\n",
        "print(str.endswith('J'))\n",
        "print(str.endswith('n'))\n"
      ],
      "metadata": {
        "colab": {
          "base_uri": "https://localhost:8080/"
        },
        "id": "98iCdEQ-cqaf",
        "outputId": "edf94348-602b-47a5-affe-dbb824e118e4"
      },
      "execution_count": 7,
      "outputs": [
        {
          "output_type": "stream",
          "name": "stdout",
          "text": [
            "John\n",
            "0\n",
            "False\n",
            "True\n"
          ]
        }
      ]
    },
    {
      "cell_type": "markdown",
      "source": [
        "Boolean and Logical Operator"
      ],
      "metadata": {
        "id": "riKmBojZdanf"
      }
    },
    {
      "cell_type": "code",
      "source": [
        "print(\"True and True:  \", True and True)\n",
        "print(\"True and False:  \", True and False)\n",
        "print(\"False and True:  \", False and True)\n",
        "print(\"False and False:  \", False and False)\n"
      ],
      "metadata": {
        "colab": {
          "base_uri": "https://localhost:8080/"
        },
        "id": "qHenz4uwdfRb",
        "outputId": "1924bc6c-b007-4008-ed06-60d6b5f11b9b"
      },
      "execution_count": 8,
      "outputs": [
        {
          "output_type": "stream",
          "name": "stdout",
          "text": [
            "True and True:   True\n",
            "True and False:   False\n",
            "False and True:   False\n",
            "False and False:   False\n"
          ]
        }
      ]
    },
    {
      "cell_type": "markdown",
      "source": [
        "**Lists**\n",
        "A list is a data structure in Python that is a mutable, or changeable, ordered sequence of elements"
      ],
      "metadata": {
        "id": "RC0i73KPeUe8"
      }
    },
    {
      "cell_type": "code",
      "source": [
        "my_list = []"
      ],
      "metadata": {
        "id": "UsWXjtAyeWM1"
      },
      "execution_count": 9,
      "outputs": []
    },
    {
      "cell_type": "code",
      "source": [
        "type(my_list)"
      ],
      "metadata": {
        "colab": {
          "base_uri": "https://localhost:8080/"
        },
        "id": "_zNQ2rkEeZUX",
        "outputId": "e899f53d-f10d-4a94-ae1e-b9d4f62fbbd9"
      },
      "execution_count": 10,
      "outputs": [
        {
          "output_type": "execute_result",
          "data": {
            "text/plain": [
              "list"
            ]
          },
          "metadata": {},
          "execution_count": 10
        }
      ]
    },
    {
      "cell_type": "code",
      "source": [
        "another_list = list()\n",
        "type(another_list)"
      ],
      "metadata": {
        "colab": {
          "base_uri": "https://localhost:8080/"
        },
        "id": "Hwy61vM1ebzJ",
        "outputId": "0fbdad4a-1a01-4476-b32d-8524b4d8c46f"
      },
      "execution_count": 11,
      "outputs": [
        {
          "output_type": "execute_result",
          "data": {
            "text/plain": [
              "list"
            ]
          },
          "metadata": {},
          "execution_count": 11
        }
      ]
    },
    {
      "cell_type": "code",
      "source": [
        "my_list = ['Banglore', 'Delhi', 'Mumbai', 123, 11]\n",
        "my_list\n"
      ],
      "metadata": {
        "colab": {
          "base_uri": "https://localhost:8080/"
        },
        "id": "-dqCvsHGehVQ",
        "outputId": "e07c3798-d31e-4c01-b515-91f1ca477d90"
      },
      "execution_count": 12,
      "outputs": [
        {
          "output_type": "execute_result",
          "data": {
            "text/plain": [
              "['Banglore', 'Delhi', 'Mumbai', 123, 11]"
            ]
          },
          "metadata": {},
          "execution_count": 12
        }
      ]
    },
    {
      "cell_type": "code",
      "source": [
        "len(my_list)"
      ],
      "metadata": {
        "colab": {
          "base_uri": "https://localhost:8080/"
        },
        "id": "9bwM47HhfBHB",
        "outputId": "3a9c71c7-155a-415e-8d64-945474b48abe"
      },
      "execution_count": 13,
      "outputs": [
        {
          "output_type": "execute_result",
          "data": {
            "text/plain": [
              "5"
            ]
          },
          "metadata": {},
          "execution_count": 13
        }
      ]
    },
    {
      "cell_type": "code",
      "source": [
        "# my_list[len(my_list)] # list index out of range\n",
        "my_list[len(my_list) - 1]\n"
      ],
      "metadata": {
        "colab": {
          "base_uri": "https://localhost:8080/"
        },
        "id": "3So7xGt4fJMN",
        "outputId": "69c84246-abba-4ead-8fea-168328f5f974"
      },
      "execution_count": 14,
      "outputs": [
        {
          "output_type": "execute_result",
          "data": {
            "text/plain": [
              "11"
            ]
          },
          "metadata": {},
          "execution_count": 14
        }
      ]
    },
    {
      "cell_type": "code",
      "source": [
        "my_list.append('Pune')\n",
        "my_list"
      ],
      "metadata": {
        "colab": {
          "base_uri": "https://localhost:8080/"
        },
        "id": "VV38qpiEfcHe",
        "outputId": "367fcb37-aab4-41e8-c286-0a0ee03be309"
      },
      "execution_count": 15,
      "outputs": [
        {
          "output_type": "execute_result",
          "data": {
            "text/plain": [
              "['Banglore', 'Delhi', 'Mumbai', 123, 11, 'Pune']"
            ]
          },
          "metadata": {},
          "execution_count": 15
        }
      ]
    },
    {
      "cell_type": "code",
      "source": [
        "my_list.append(['Pune', 'Hydrabd'])\n",
        "my_list"
      ],
      "metadata": {
        "colab": {
          "base_uri": "https://localhost:8080/"
        },
        "id": "vlW4sNY5fsQZ",
        "outputId": "1045956f-20cc-4890-cb2c-a2b59aec3e2d"
      },
      "execution_count": 16,
      "outputs": [
        {
          "output_type": "execute_result",
          "data": {
            "text/plain": [
              "['Banglore', 'Delhi', 'Mumbai', 123, 11, 'Pune', ['Pune', 'Hydrabd']]"
            ]
          },
          "metadata": {},
          "execution_count": 16
        }
      ]
    },
    {
      "cell_type": "markdown",
      "source": [
        "Indexing in **list**"
      ],
      "metadata": {
        "id": "rYM2gdg-f49j"
      }
    },
    {
      "cell_type": "code",
      "source": [
        "my_list[:] # all items"
      ],
      "metadata": {
        "colab": {
          "base_uri": "https://localhost:8080/"
        },
        "id": "41GO9tOxf9DX",
        "outputId": "2396d9e1-537d-4d50-f2f4-0b93878e026e"
      },
      "execution_count": 17,
      "outputs": [
        {
          "output_type": "execute_result",
          "data": {
            "text/plain": [
              "['Banglore', 'Delhi', 'Mumbai', 123, 11, 'Pune', ['Pune', 'Hydrabd']]"
            ]
          },
          "metadata": {},
          "execution_count": 17
        }
      ]
    },
    {
      "cell_type": "code",
      "source": [
        "my_list[1:4] # from to upto-1"
      ],
      "metadata": {
        "colab": {
          "base_uri": "https://localhost:8080/"
        },
        "id": "RuFP_31_gBVm",
        "outputId": "003bb358-b041-4893-8326-e5b1d98cdc5c"
      },
      "execution_count": 18,
      "outputs": [
        {
          "output_type": "execute_result",
          "data": {
            "text/plain": [
              "['Delhi', 'Mumbai', 123]"
            ]
          },
          "metadata": {},
          "execution_count": 18
        }
      ]
    },
    {
      "cell_type": "code",
      "source": [
        "my_list.insert(2, 'Noida')\n",
        "my_list"
      ],
      "metadata": {
        "colab": {
          "base_uri": "https://localhost:8080/"
        },
        "id": "q1ubJncWgNCX",
        "outputId": "b5050729-9d10-4624-84f1-42e4459229bb"
      },
      "execution_count": 19,
      "outputs": [
        {
          "output_type": "execute_result",
          "data": {
            "text/plain": [
              "['Banglore', 'Delhi', 'Noida', 'Mumbai', 123, 11, 'Pune', ['Pune', 'Hydrabd']]"
            ]
          },
          "metadata": {},
          "execution_count": 19
        }
      ]
    },
    {
      "cell_type": "markdown",
      "source": [
        "**Extend method**"
      ],
      "metadata": {
        "id": "3RPeRGuAhxEz"
      }
    },
    {
      "cell_type": "code",
      "source": [
        "new_list = [1,2,3]\n",
        "new_list"
      ],
      "metadata": {
        "colab": {
          "base_uri": "https://localhost:8080/"
        },
        "id": "KdtdcsOSh4gZ",
        "outputId": "81ba3cb9-f480-4275-ecf6-7a736f02c3d1"
      },
      "execution_count": 20,
      "outputs": [
        {
          "output_type": "execute_result",
          "data": {
            "text/plain": [
              "[1, 2, 3]"
            ]
          },
          "metadata": {},
          "execution_count": 20
        }
      ]
    },
    {
      "cell_type": "code",
      "source": [
        "new_list.extend([4,5,6])\n",
        "# new_list\n",
        "new_list.extend(['joh', 'dummy'])\n",
        "new_list"
      ],
      "metadata": {
        "colab": {
          "base_uri": "https://localhost:8080/"
        },
        "id": "8Qq9tT0ZiU71",
        "outputId": "5b3ebb74-a53a-41b9-c15a-5d7ad8448065"
      },
      "execution_count": 21,
      "outputs": [
        {
          "output_type": "execute_result",
          "data": {
            "text/plain": [
              "[1, 2, 3, 4, 5, 6, 'joh', 'dummy']"
            ]
          },
          "metadata": {},
          "execution_count": 21
        }
      ]
    },
    {
      "cell_type": "code",
      "source": [
        "# sum(new_list)\n",
        "num_list = [1,2,4,5]\n",
        "print(\"sum\", sum(num_list))\n",
        "print(\"sum\", max(num_list))\n",
        "print(\"sum\", min(num_list))\n",
        "\n",
        "num_list.extend([1, 1, 2,3,])"
      ],
      "metadata": {
        "colab": {
          "base_uri": "https://localhost:8080/"
        },
        "id": "GGeJzOXyk3Dx",
        "outputId": "4752ffe4-447b-49f5-ccf2-ce4a8080f60f"
      },
      "execution_count": 22,
      "outputs": [
        {
          "output_type": "stream",
          "name": "stdout",
          "text": [
            "sum 12\n",
            "sum 5\n",
            "sum 1\n"
          ]
        }
      ]
    },
    {
      "cell_type": "code",
      "source": [
        "num_list"
      ],
      "metadata": {
        "colab": {
          "base_uri": "https://localhost:8080/"
        },
        "id": "7GPwV-JQtj9z",
        "outputId": "add01788-bccd-40bf-bdf8-410e095431c4"
      },
      "execution_count": 23,
      "outputs": [
        {
          "output_type": "execute_result",
          "data": {
            "text/plain": [
              "[1, 2, 4, 5, 1, 1, 2, 3]"
            ]
          },
          "metadata": {},
          "execution_count": 23
        }
      ]
    },
    {
      "cell_type": "code",
      "source": [
        "num_list.pop()"
      ],
      "metadata": {
        "colab": {
          "base_uri": "https://localhost:8080/"
        },
        "id": "i5g-N8RylkTW",
        "outputId": "15f9f9fc-2fcc-4db7-ddcd-44442533f3e3"
      },
      "execution_count": 24,
      "outputs": [
        {
          "output_type": "execute_result",
          "data": {
            "text/plain": [
              "3"
            ]
          },
          "metadata": {},
          "execution_count": 24
        }
      ]
    },
    {
      "cell_type": "code",
      "source": [
        "num_list.count(1)"
      ],
      "metadata": {
        "colab": {
          "base_uri": "https://localhost:8080/"
        },
        "id": "QUSiFg74l6BD",
        "outputId": "5d6be5a6-8ffa-4663-d8cb-3db692b6d949"
      },
      "execution_count": 25,
      "outputs": [
        {
          "output_type": "execute_result",
          "data": {
            "text/plain": [
              "3"
            ]
          },
          "metadata": {},
          "execution_count": 25
        }
      ]
    },
    {
      "cell_type": "code",
      "source": [
        "#index of occurance : first occurance\n",
        "num_list.index(1, 0, 5)"
      ],
      "metadata": {
        "colab": {
          "base_uri": "https://localhost:8080/"
        },
        "id": "3BoYJ62OmAdf",
        "outputId": "75fb769a-8123-42b2-de2b-f74a0dfa240b"
      },
      "execution_count": 27,
      "outputs": [
        {
          "output_type": "execute_result",
          "data": {
            "text/plain": [
              "0"
            ]
          },
          "metadata": {},
          "execution_count": 27
        }
      ]
    },
    {
      "cell_type": "markdown",
      "source": [
        "**set**\n",
        "A Set is an unordered collection data type that is iterable, mutable, and has no duplicate elements. Python's set class represents the mathematical notion of a set.This is based on a data structure known as a hash table"
      ],
      "metadata": {
        "id": "A5OcOjjqmUDm"
      }
    },
    {
      "cell_type": "code",
      "source": [
        "setV = set()\n",
        "type(setV)\n",
        "print(setV)"
      ],
      "metadata": {
        "colab": {
          "base_uri": "https://localhost:8080/"
        },
        "id": "mzepMtJ5mfEW",
        "outputId": "bbb6f383-912f-41ac-ad51-ab649db39006"
      },
      "execution_count": 31,
      "outputs": [
        {
          "output_type": "stream",
          "name": "stdout",
          "text": [
            "set()\n"
          ]
        }
      ]
    },
    {
      "cell_type": "code",
      "source": [
        "setV = {1, 2, 3, 4,5}\n",
        "setV"
      ],
      "metadata": {
        "colab": {
          "base_uri": "https://localhost:8080/"
        },
        "id": "xOpUR69BmsFz",
        "outputId": "de9741e5-731b-466b-b53a-88b29076c47a"
      },
      "execution_count": 33,
      "outputs": [
        {
          "output_type": "execute_result",
          "data": {
            "text/plain": [
              "{1, 2, 3, 4, 5}"
            ]
          },
          "metadata": {},
          "execution_count": 33
        }
      ]
    },
    {
      "cell_type": "code",
      "source": [
        "setV.add(\"Hulk\")\n",
        "setV"
      ],
      "metadata": {
        "colab": {
          "base_uri": "https://localhost:8080/"
        },
        "id": "F-QjpGy4m04C",
        "outputId": "d237f13e-6ec4-40b2-a644-768028270018"
      },
      "execution_count": 35,
      "outputs": [
        {
          "output_type": "execute_result",
          "data": {
            "text/plain": [
              "{1, 2, 3, 4, 5, 'Hulk'}"
            ]
          },
          "metadata": {},
          "execution_count": 35
        }
      ]
    },
    {
      "cell_type": "code",
      "source": [
        "set1={\"Avengers\",\"IronMan\",'Hitman'}\n",
        "set2={\"Avengers\",\"IronMan\",'Hitman','Hulk2'}"
      ],
      "metadata": {
        "id": "EqWfBrvXm7wA"
      },
      "execution_count": 36,
      "outputs": []
    },
    {
      "cell_type": "code",
      "source": [
        "#intersection of two set\n",
        "set1.union(set2)"
      ],
      "metadata": {
        "colab": {
          "base_uri": "https://localhost:8080/"
        },
        "id": "hG5hxWQWm_uk",
        "outputId": "cb8dd9ce-c234-4aa3-8dd2-81e352d9a7af"
      },
      "execution_count": 38,
      "outputs": [
        {
          "output_type": "execute_result",
          "data": {
            "text/plain": [
              "{'Avengers', 'Hitman', 'Hulk2', 'IronMan'}"
            ]
          },
          "metadata": {},
          "execution_count": 38
        }
      ]
    },
    {
      "cell_type": "code",
      "source": [
        "set2.intersection_update(set1)"
      ],
      "metadata": {
        "id": "nHbkivRxnNyC"
      },
      "execution_count": 39,
      "outputs": []
    },
    {
      "cell_type": "code",
      "source": [
        "set2"
      ],
      "metadata": {
        "colab": {
          "base_uri": "https://localhost:8080/"
        },
        "id": "Cw0rdONGnVX8",
        "outputId": "372e8f63-e7a7-42bb-804a-f81279870b38"
      },
      "execution_count": 40,
      "outputs": [
        {
          "output_type": "execute_result",
          "data": {
            "text/plain": [
              "{'Avengers', 'Hitman', 'IronMan'}"
            ]
          },
          "metadata": {},
          "execution_count": 40
        }
      ]
    },
    {
      "cell_type": "code",
      "source": [
        "set1.intersection_update(set2)\n",
        "set1"
      ],
      "metadata": {
        "colab": {
          "base_uri": "https://localhost:8080/"
        },
        "id": "XrA59prWnZY4",
        "outputId": "f6e85fa3-bc83-4bcf-8bf7-6820dd53accf"
      },
      "execution_count": 42,
      "outputs": [
        {
          "output_type": "execute_result",
          "data": {
            "text/plain": [
              "{'Avengers', 'Hitman', 'IronMan'}"
            ]
          },
          "metadata": {},
          "execution_count": 42
        }
      ]
    },
    {
      "cell_type": "markdown",
      "source": [
        "**Dictionaries**\n",
        "A dictionary is a collection which is unordered, changeable and indexed. In Python dictionaries are written with curly brackets, and they have keys and values."
      ],
      "metadata": {
        "id": "XREN7lLMngng"
      }
    },
    {
      "cell_type": "code",
      "source": [
        "dis = {}"
      ],
      "metadata": {
        "id": "nxvyGqSrnkQF"
      },
      "execution_count": 43,
      "outputs": []
    },
    {
      "cell_type": "code",
      "source": [
        "my_dict={\"Car1\": \"Audi\", \"Car2\":\"BMW\",\"Car3\":\"Mercidies Benz\"}\n",
        "new_dict = {'1': \"Herry\", '2': \"porter\", '3': \"hermione\"}\n",
        "new_dict"
      ],
      "metadata": {
        "colab": {
          "base_uri": "https://localhost:8080/"
        },
        "id": "sdQOagsrnrSq",
        "outputId": "44bc06e2-a9ee-4d3c-927d-fd7d4535b1e9"
      },
      "execution_count": 44,
      "outputs": [
        {
          "output_type": "execute_result",
          "data": {
            "text/plain": [
              "{'1': 'Herry', '2': 'porter', '3': 'hermione'}"
            ]
          },
          "metadata": {},
          "execution_count": 44
        }
      ]
    },
    {
      "cell_type": "code",
      "source": [
        "new_dict['1']"
      ],
      "metadata": {
        "colab": {
          "base_uri": "https://localhost:8080/",
          "height": 36
        },
        "id": "-QMzBpctoSgF",
        "outputId": "72baa6db-9d10-4d2e-d22d-72866727e81f"
      },
      "execution_count": 50,
      "outputs": [
        {
          "output_type": "execute_result",
          "data": {
            "text/plain": [
              "'Herry'"
            ],
            "application/vnd.google.colaboratory.intrinsic+json": {
              "type": "string"
            }
          },
          "metadata": {},
          "execution_count": 50
        }
      ]
    },
    {
      "cell_type": "code",
      "source": [
        "# Retrive all keys\n",
        "for keys in new_dict:\n",
        "  print(keys)"
      ],
      "metadata": {
        "colab": {
          "base_uri": "https://localhost:8080/"
        },
        "id": "TnHqitLCo9aQ",
        "outputId": "0144efc8-3d85-4d11-cd9d-f5f6fb1a6485"
      },
      "execution_count": 54,
      "outputs": [
        {
          "output_type": "stream",
          "name": "stdout",
          "text": [
            "1\n",
            "2\n",
            "3\n"
          ]
        }
      ]
    },
    {
      "cell_type": "code",
      "source": [
        "# All values of dictonary\n",
        "for val in new_dict.values():\n",
        "  print(val)"
      ],
      "metadata": {
        "colab": {
          "base_uri": "https://localhost:8080/"
        },
        "id": "ZhI6X_F8pLd0",
        "outputId": "fe37685a-67d0-4f28-c52b-bb39914fd24b"
      },
      "execution_count": 55,
      "outputs": [
        {
          "output_type": "stream",
          "name": "stdout",
          "text": [
            "Herry\n",
            "porter\n",
            "hermione\n"
          ]
        }
      ]
    },
    {
      "cell_type": "code",
      "source": [
        "# All items\n",
        "for item in new_dict.items():\n",
        "  print(item)"
      ],
      "metadata": {
        "colab": {
          "base_uri": "https://localhost:8080/"
        },
        "id": "pay2zzbspaVN",
        "outputId": "22d2dfbe-240b-4be9-cd19-529f53ac3439"
      },
      "execution_count": 61,
      "outputs": [
        {
          "output_type": "stream",
          "name": "stdout",
          "text": [
            "('1', 'Herry')\n",
            "('2', 'porter')\n",
            "('3', 'hermione')\n"
          ]
        }
      ]
    },
    {
      "cell_type": "code",
      "source": [
        "# Update any value\n",
        "new_dict['1'] = 'ron';\n",
        "\n",
        "for item in new_dict.items():\n",
        "  print(item)"
      ],
      "metadata": {
        "colab": {
          "base_uri": "https://localhost:8080/"
        },
        "id": "eWhgGyjBp0Op",
        "outputId": "6d07a2e2-82b3-4d1f-ea9d-8a51a88d3fef"
      },
      "execution_count": 64,
      "outputs": [
        {
          "output_type": "stream",
          "name": "stdout",
          "text": [
            "('1', 'ron')\n",
            "('2', 'porter')\n",
            "('3', 'hermione')\n"
          ]
        }
      ]
    },
    {
      "cell_type": "code",
      "source": [
        "# add new value\n",
        "new_dict['4'] = 'DumbleDore';\n",
        "\n",
        "for item in new_dict.items():\n",
        "  print(item)"
      ],
      "metadata": {
        "colab": {
          "base_uri": "https://localhost:8080/"
        },
        "id": "EnakhIV5p0IZ",
        "outputId": "be82cd56-2392-44b3-fdd5-33d5c9a37a7d"
      },
      "execution_count": 65,
      "outputs": [
        {
          "output_type": "stream",
          "name": "stdout",
          "text": [
            "('1', 'ron')\n",
            "('2', 'porter')\n",
            "('3', 'hermione')\n",
            "('4', 'DumbleDore')\n"
          ]
        }
      ]
    },
    {
      "cell_type": "markdown",
      "source": [
        "Nested Disctonary"
      ],
      "metadata": {
        "id": "QsgBUGXUqmW2"
      }
    },
    {
      "cell_type": "code",
      "source": [
        "car1_model = {'Mercedes': 1999}\n",
        "car2_model = {'Audi': 1229}\n",
        "car3_model = {'Wolswagon': 2001}\n",
        "\n",
        "cars = {'car1' : car1_model, 'car2': car2_model, 'car3': car3_model}\n",
        "\n",
        "cars\n"
      ],
      "metadata": {
        "colab": {
          "base_uri": "https://localhost:8080/"
        },
        "id": "LIt92i18qpC9",
        "outputId": "c2090ace-272a-450a-dcd2-9c7879656365"
      },
      "execution_count": 67,
      "outputs": [
        {
          "output_type": "execute_result",
          "data": {
            "text/plain": [
              "{'car1': {'Mercedes': 1999},\n",
              " 'car2': {'Audi': 1229},\n",
              " 'car3': {'Wolswagon': 2001}}"
            ]
          },
          "metadata": {},
          "execution_count": 67
        }
      ]
    },
    {
      "cell_type": "code",
      "source": [
        "print(cars['car1'])"
      ],
      "metadata": {
        "colab": {
          "base_uri": "https://localhost:8080/"
        },
        "id": "mTbqt-AarJVU",
        "outputId": "65e33392-675e-4dff-f9b0-c6b85b5302be"
      },
      "execution_count": 68,
      "outputs": [
        {
          "output_type": "stream",
          "name": "stdout",
          "text": [
            "{'Mercedes': 1999}\n"
          ]
        }
      ]
    },
    {
      "cell_type": "code",
      "source": [
        "print(cars['car1']['Mercedes'])\n",
        "# print(cars['car1']['dummy'])\n"
      ],
      "metadata": {
        "colab": {
          "base_uri": "https://localhost:8080/",
          "height": 205
        },
        "id": "z8eBqyyvrTz_",
        "outputId": "0dbfd7b8-c2d2-4df4-edfc-8acd7b51af2a"
      },
      "execution_count": 71,
      "outputs": [
        {
          "output_type": "stream",
          "name": "stdout",
          "text": [
            "1999\n"
          ]
        },
        {
          "output_type": "error",
          "ename": "KeyError",
          "evalue": "ignored",
          "traceback": [
            "\u001b[0;31m---------------------------------------------------------------------------\u001b[0m",
            "\u001b[0;31mKeyError\u001b[0m                                  Traceback (most recent call last)",
            "\u001b[0;32m<ipython-input-71-ca01d4031c0b>\u001b[0m in \u001b[0;36m<cell line: 2>\u001b[0;34m()\u001b[0m\n\u001b[1;32m      1\u001b[0m \u001b[0mprint\u001b[0m\u001b[0;34m(\u001b[0m\u001b[0mcars\u001b[0m\u001b[0;34m[\u001b[0m\u001b[0;34m'car1'\u001b[0m\u001b[0;34m]\u001b[0m\u001b[0;34m[\u001b[0m\u001b[0;34m'Mercedes'\u001b[0m\u001b[0;34m]\u001b[0m\u001b[0;34m)\u001b[0m\u001b[0;34m\u001b[0m\u001b[0;34m\u001b[0m\u001b[0m\n\u001b[0;32m----> 2\u001b[0;31m \u001b[0mprint\u001b[0m\u001b[0;34m(\u001b[0m\u001b[0mcars\u001b[0m\u001b[0;34m[\u001b[0m\u001b[0;34m'car1'\u001b[0m\u001b[0;34m]\u001b[0m\u001b[0;34m[\u001b[0m\u001b[0;34m'dummy'\u001b[0m\u001b[0;34m]\u001b[0m\u001b[0;34m)\u001b[0m\u001b[0;34m\u001b[0m\u001b[0;34m\u001b[0m\u001b[0m\n\u001b[0m",
            "\u001b[0;31mKeyError\u001b[0m: 'dummy'"
          ]
        }
      ]
    },
    {
      "cell_type": "markdown",
      "source": [
        "**Tuples**"
      ],
      "metadata": {
        "id": "BAlhBD96rtMJ"
      }
    },
    {
      "cell_type": "code",
      "source": [
        "my_tuple = tuple()\n",
        "type(my_tuple)"
      ],
      "metadata": {
        "colab": {
          "base_uri": "https://localhost:8080/"
        },
        "id": "I2OgvAQ6rwZv",
        "outputId": "22e71a6d-ed50-4bac-d632-7cd29fa853a1"
      },
      "execution_count": 72,
      "outputs": [
        {
          "output_type": "execute_result",
          "data": {
            "text/plain": [
              "tuple"
            ]
          },
          "metadata": {},
          "execution_count": 72
        }
      ]
    },
    {
      "cell_type": "code",
      "source": [
        "my_tuple = ('Praveen', 'Prabhat', 'Ron')\n",
        "my_tuple"
      ],
      "metadata": {
        "colab": {
          "base_uri": "https://localhost:8080/"
        },
        "id": "KN_G_bq_sFah",
        "outputId": "5dac480e-951a-4624-d49b-870bb5350c35"
      },
      "execution_count": 74,
      "outputs": [
        {
          "output_type": "execute_result",
          "data": {
            "text/plain": [
              "('Praveen', 'Prabhat', 'Ron')"
            ]
          },
          "metadata": {},
          "execution_count": 74
        }
      ]
    },
    {
      "cell_type": "code",
      "source": [
        "my_tuple[0]"
      ],
      "metadata": {
        "colab": {
          "base_uri": "https://localhost:8080/",
          "height": 36
        },
        "id": "LZNX3qI_sTUL",
        "outputId": "b3a3619e-b33b-40bc-d1da-181e3a96da6c"
      },
      "execution_count": 75,
      "outputs": [
        {
          "output_type": "execute_result",
          "data": {
            "text/plain": [
              "'Praveen'"
            ],
            "application/vnd.google.colaboratory.intrinsic+json": {
              "type": "string"
            }
          },
          "metadata": {},
          "execution_count": 75
        }
      ]
    },
    {
      "cell_type": "code",
      "source": [
        "#note: tuples value can't be replace or override\n",
        "# my_tuple[0] = 'Prabhat' # 'tuple' object does not support item assignment"
      ],
      "metadata": {
        "id": "vhEFKIcfsiEm"
      },
      "execution_count": 78,
      "outputs": []
    },
    {
      "cell_type": "code",
      "source": [
        "my_tuple = ('Ron', 'Hermione', 'Ron', 'ron') # we can create new one, this is useed in a program where we requred to set vlues one time\n",
        "for item in my_tuple:\n",
        "  print(item)"
      ],
      "metadata": {
        "colab": {
          "base_uri": "https://localhost:8080/"
        },
        "id": "vs_ieUuKsy9Y",
        "outputId": "b7274de9-4ec5-45f0-c664-349b696afa87"
      },
      "execution_count": 83,
      "outputs": [
        {
          "output_type": "stream",
          "name": "stdout",
          "text": [
            "Ron\n",
            "Hermione\n",
            "Ron\n",
            "ron\n"
          ]
        }
      ]
    },
    {
      "cell_type": "code",
      "source": [
        "my_tuple.count('Ron')"
      ],
      "metadata": {
        "colab": {
          "base_uri": "https://localhost:8080/"
        },
        "id": "1QLqTJrYtRiN",
        "outputId": "a75477a1-838c-4925-c0d5-732423065843"
      },
      "execution_count": 84,
      "outputs": [
        {
          "output_type": "execute_result",
          "data": {
            "text/plain": [
              "2"
            ]
          },
          "metadata": {},
          "execution_count": 84
        }
      ]
    },
    {
      "cell_type": "code",
      "source": [
        "my_tuple.index('Ron') # first occurance"
      ],
      "metadata": {
        "colab": {
          "base_uri": "https://localhost:8080/"
        },
        "id": "LIQANdawtjNC",
        "outputId": "49f1a253-2233-4e99-f51a-be1a254466bc"
      },
      "execution_count": 86,
      "outputs": [
        {
          "output_type": "execute_result",
          "data": {
            "text/plain": [
              "0"
            ]
          },
          "metadata": {},
          "execution_count": 86
        }
      ]
    }
  ]
}