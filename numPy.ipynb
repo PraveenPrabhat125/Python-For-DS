{
  "nbformat": 4,
  "nbformat_minor": 0,
  "metadata": {
    "colab": {
      "provenance": []
    },
    "kernelspec": {
      "name": "python3",
      "display_name": "Python 3"
    },
    "language_info": {
      "name": "python"
    }
  },
  "cells": [
    {
      "cell_type": "markdown",
      "source": [
        "**NumPy**"
      ],
      "metadata": {
        "id": "vwQp8gTLxH8w"
      }
    },
    {
      "cell_type": "markdown",
      "source": [
        "**NumPy** is a powerful Python library used for numerical computing. It provides support for large, multi-dimensional arrays and matrices, along with a collection of mathematical functions to operate on these arrays efficiently. Here are some of the basic functions and features of NumPy:\n",
        "\n"
      ],
      "metadata": {
        "id": "KKGAavB-xMOI"
      }
    },
    {
      "cell_type": "markdown",
      "source": [
        "**Importing NumPy:**\n",
        "To use NumPy in your Python program, you need to import it using the following statement:"
      ],
      "metadata": {
        "id": "L9ERNnxUxQtq"
      }
    },
    {
      "cell_type": "code",
      "execution_count": null,
      "metadata": {
        "id": "fzq3sfewvEJ-"
      },
      "outputs": [],
      "source": [
        "#import numpy\n",
        "import numpy as np"
      ]
    },
    {
      "cell_type": "code",
      "source": [
        "my_list = [1, 2, 3, 4, 5]\n",
        "type(my_list)"
      ],
      "metadata": {
        "colab": {
          "base_uri": "https://localhost:8080/"
        },
        "id": "rqpr73_mxegd",
        "outputId": "3a1fa5ac-1cb3-410a-f199-6650ab51b10b"
      },
      "execution_count": null,
      "outputs": [
        {
          "output_type": "execute_result",
          "data": {
            "text/plain": [
              "list"
            ]
          },
          "metadata": {},
          "execution_count": 9
        }
      ]
    },
    {
      "cell_type": "code",
      "source": [
        "arr = np.array(my_list)\n",
        "arr\n",
        "\n",
        "print(arr)"
      ],
      "metadata": {
        "colab": {
          "base_uri": "https://localhost:8080/"
        },
        "id": "mmVNZfVtxklD",
        "outputId": "c53cc032-0ee3-4e40-a962-d8f95c44f681"
      },
      "execution_count": null,
      "outputs": [
        {
          "output_type": "stream",
          "name": "stdout",
          "text": [
            "[1 2 3 4 5]\n"
          ]
        }
      ]
    },
    {
      "cell_type": "code",
      "source": [
        "arr.shape\n",
        "# arr.size"
      ],
      "metadata": {
        "colab": {
          "base_uri": "https://localhost:8080/"
        },
        "id": "kJ6OQ6Pf3wTd",
        "outputId": "b214d0ca-cf50-46d7-eac0-a1692c2d1504"
      },
      "execution_count": null,
      "outputs": [
        {
          "output_type": "execute_result",
          "data": {
            "text/plain": [
              "(5,)"
            ]
          },
          "metadata": {},
          "execution_count": 15
        }
      ]
    },
    {
      "cell_type": "code",
      "source": [
        "## Multinested array\n",
        "my_lst1=[1,2,3,4,5]\n",
        "my_lst2=[2,3,4,5,6]\n",
        "my_lst3=[9,7,6,8,9]\n",
        "arr = np.array([my_lst1, my_lst2])\n",
        "\n",
        "print(arr)"
      ],
      "metadata": {
        "colab": {
          "base_uri": "https://localhost:8080/"
        },
        "id": "RfSRClL04BRd",
        "outputId": "9f08d24e-1725-4df8-9017-9b6b2cbfa5f4"
      },
      "execution_count": null,
      "outputs": [
        {
          "output_type": "stream",
          "name": "stdout",
          "text": [
            "[[1 2 3 4 5]\n",
            " [2 3 4 5 6]]\n"
          ]
        }
      ]
    },
    {
      "cell_type": "code",
      "source": [
        "arr = np.array([my_lst1, my_lst2, my_lst3])\n",
        "print(arr)"
      ],
      "metadata": {
        "colab": {
          "base_uri": "https://localhost:8080/"
        },
        "id": "p5-3uTGg4ele",
        "outputId": "f8b9c088-69f8-409c-8b98-c01213fb1348"
      },
      "execution_count": null,
      "outputs": [
        {
          "output_type": "stream",
          "name": "stdout",
          "text": [
            "[[1 2 3 4 5]\n",
            " [2 3 4 5 6]\n",
            " [9 7 6 8 9]]\n"
          ]
        }
      ]
    },
    {
      "cell_type": "code",
      "source": [
        "arr.shape"
      ],
      "metadata": {
        "colab": {
          "base_uri": "https://localhost:8080/"
        },
        "id": "91XXgKDN4kUt",
        "outputId": "14caaa94-f7aa-42fe-ba3a-ce75b73e0d2d"
      },
      "execution_count": null,
      "outputs": [
        {
          "output_type": "execute_result",
          "data": {
            "text/plain": [
              "(3, 5)"
            ]
          },
          "metadata": {},
          "execution_count": 23
        }
      ]
    },
    {
      "cell_type": "code",
      "source": [
        "arr.reshape(5, 3) # total count must be same"
      ],
      "metadata": {
        "colab": {
          "base_uri": "https://localhost:8080/"
        },
        "id": "sUgcU0eY4qhU",
        "outputId": "6722f15c-b24f-44ca-e022-ce768eba5ddc"
      },
      "execution_count": null,
      "outputs": [
        {
          "output_type": "execute_result",
          "data": {
            "text/plain": [
              "array([[1, 2, 3],\n",
              "       [4, 5, 2],\n",
              "       [3, 4, 5],\n",
              "       [6, 9, 7],\n",
              "       [6, 8, 9]])"
            ]
          },
          "metadata": {},
          "execution_count": 27
        }
      ]
    },
    {
      "cell_type": "markdown",
      "source": [
        "Indexing **To retrive the data**"
      ],
      "metadata": {
        "id": "HIs9LFqM47kR"
      }
    },
    {
      "cell_type": "code",
      "source": [
        "arr[:,:] # row , column :-   : , :"
      ],
      "metadata": {
        "colab": {
          "base_uri": "https://localhost:8080/"
        },
        "id": "tOVVKm_P9jre",
        "outputId": "521bf6f9-9c76-467c-e2f0-3d0e6f72c1d3"
      },
      "execution_count": null,
      "outputs": [
        {
          "output_type": "execute_result",
          "data": {
            "text/plain": [
              "array([[1, 2, 3, 4, 5],\n",
              "       [2, 3, 4, 5, 6],\n",
              "       [9, 7, 6, 8, 9]])"
            ]
          },
          "metadata": {},
          "execution_count": 29
        }
      ]
    },
    {
      "cell_type": "code",
      "source": [
        "arr[ 1: , 2: 4]"
      ],
      "metadata": {
        "colab": {
          "base_uri": "https://localhost:8080/"
        },
        "id": "H9JsjLRG-m7v",
        "outputId": "53acb3d7-db51-4119-a59f-db177e049de0"
      },
      "execution_count": null,
      "outputs": [
        {
          "output_type": "execute_result",
          "data": {
            "text/plain": [
              "array([[4, 5],\n",
              "       [6, 8]])"
            ]
          },
          "metadata": {},
          "execution_count": 37
        }
      ]
    },
    {
      "cell_type": "code",
      "source": [
        "arr[ 0:2 , 0:3 ]"
      ],
      "metadata": {
        "colab": {
          "base_uri": "https://localhost:8080/"
        },
        "id": "05E8Gn7f9v5M",
        "outputId": "2d7ccbc2-125b-4c3b-aa71-1d4ee33877b3"
      },
      "execution_count": null,
      "outputs": [
        {
          "output_type": "execute_result",
          "data": {
            "text/plain": [
              "array([[1, 2, 3],\n",
              "       [2, 3, 4]])"
            ]
          },
          "metadata": {},
          "execution_count": 32
        }
      ]
    },
    {
      "cell_type": "code",
      "source": [
        "arr[0:2, :]"
      ],
      "metadata": {
        "colab": {
          "base_uri": "https://localhost:8080/"
        },
        "id": "YCUDoV0s-BXO",
        "outputId": "8d0716ae-a585-4b95-c328-44332339a33a"
      },
      "execution_count": null,
      "outputs": [
        {
          "output_type": "execute_result",
          "data": {
            "text/plain": [
              "array([[1, 2, 3, 4, 5],\n",
              "       [2, 3, 4, 5, 6]])"
            ]
          },
          "metadata": {},
          "execution_count": 33
        }
      ]
    },
    {
      "cell_type": "markdown",
      "source": [
        "print : 5 6, 7, 8"
      ],
      "metadata": {
        "id": "WsSHgIZG-LmE"
      }
    },
    {
      "cell_type": "code",
      "source": [
        "# arr[ 1:3 , 3:5] or\n",
        "arr[ 1: , 3:]\n"
      ],
      "metadata": {
        "colab": {
          "base_uri": "https://localhost:8080/"
        },
        "id": "qEbAkUsP-OLk",
        "outputId": "9c85456f-0ba6-4919-a365-a828356145ab"
      },
      "execution_count": null,
      "outputs": [
        {
          "output_type": "execute_result",
          "data": {
            "text/plain": [
              "array([[5, 6],\n",
              "       [8, 9]])"
            ]
          },
          "metadata": {},
          "execution_count": 36
        }
      ]
    },
    {
      "cell_type": "code",
      "source": [
        "#inbuilt function\n",
        "iArr = np.arange(1, 11)\n",
        "iArr"
      ],
      "metadata": {
        "colab": {
          "base_uri": "https://localhost:8080/"
        },
        "id": "ROz6GlJH-2Uo",
        "outputId": "bbec66b1-ead9-4901-d02a-006882d4f68e"
      },
      "execution_count": null,
      "outputs": [
        {
          "output_type": "execute_result",
          "data": {
            "text/plain": [
              "array([ 1,  2,  3,  4,  5,  6,  7,  8,  9, 10])"
            ]
          },
          "metadata": {},
          "execution_count": 39
        }
      ]
    },
    {
      "cell_type": "code",
      "source": [
        "iArr = np.arange(1, 11, step=2)\n",
        "iArr"
      ],
      "metadata": {
        "colab": {
          "base_uri": "https://localhost:8080/"
        },
        "id": "R--lfK7Y_WpP",
        "outputId": "00ab4cc7-75d6-4192-ae7f-35f8c8f3dfb8"
      },
      "execution_count": null,
      "outputs": [
        {
          "output_type": "execute_result",
          "data": {
            "text/plain": [
              "array([1, 3, 5, 7, 9])"
            ]
          },
          "metadata": {},
          "execution_count": 40
        }
      ]
    },
    {
      "cell_type": "markdown",
      "source": [
        "arrange(start val, end value, step = 2)"
      ],
      "metadata": {
        "id": "WAVFnNdk_3qO"
      }
    },
    {
      "cell_type": "code",
      "source": [
        "# first 10 even and odd nos\n",
        "f10Even = np.arange(0, 20, step = 2)\n",
        "f10Odd = np.arange(1, 20, step = 2)\n",
        "print(f10Even)\n",
        "print(f10Odd)\n"
      ],
      "metadata": {
        "colab": {
          "base_uri": "https://localhost:8080/"
        },
        "id": "WTP0WQWO_bL7",
        "outputId": "d4db8205-794f-4bb8-884d-587ea27f3ad0"
      },
      "execution_count": null,
      "outputs": [
        {
          "output_type": "stream",
          "name": "stdout",
          "text": [
            "[ 0  2  4  6  8 10 12 14 16 18]\n",
            "[ 1  3  5  7  9 11 13 15 17 19]\n"
          ]
        }
      ]
    },
    {
      "cell_type": "markdown",
      "source": [
        "**Equally spaced points**\n",
        "1. linspace(startval, endVal, no of points in between)\n",
        "\n",
        "\n",
        "Return evenly spaced numbers over a specified interval.\n",
        "\n",
        "Returns num evenly spaced samples, calculated over the\n",
        "interval [start, stop].\n",
        "\n",
        "The endpoint of the interval can optionally be excluded.\n"
      ],
      "metadata": {
        "id": "nvvTwXmwAGY0"
      }
    },
    {
      "cell_type": "code",
      "source": [
        "arr1 = np.linspace(2, 10, 3)\n",
        "arr1"
      ],
      "metadata": {
        "colab": {
          "base_uri": "https://localhost:8080/"
        },
        "id": "sFFtDXEK_9YJ",
        "outputId": "945cb79e-b746-43ca-9631-d0b380bb63c5"
      },
      "execution_count": null,
      "outputs": [
        {
          "output_type": "execute_result",
          "data": {
            "text/plain": [
              "array([ 2.,  6., 10.])"
            ]
          },
          "metadata": {},
          "execution_count": 49
        }
      ]
    },
    {
      "cell_type": "code",
      "source": [
        "\n",
        "arr2 = np.arange(1, 11)\n",
        "arr2"
      ],
      "metadata": {
        "colab": {
          "base_uri": "https://localhost:8080/"
        },
        "id": "h2acRuvxBDoJ",
        "outputId": "c0d17fd3-3b88-4fc7-cd32-76d33213fdfc"
      },
      "execution_count": null,
      "outputs": [
        {
          "output_type": "execute_result",
          "data": {
            "text/plain": [
              "array([ 1,  2,  3,  4,  5,  6,  7,  8,  9, 10])"
            ]
          },
          "metadata": {},
          "execution_count": 51
        }
      ]
    },
    {
      "cell_type": "markdown",
      "source": [
        "Copy/ Broadcasting"
      ],
      "metadata": {
        "id": "dfgWS9EUBveE"
      }
    },
    {
      "cell_type": "code",
      "source": [
        "#copy : copies the same value to all points\n",
        "arr2[5: ] = 100 # replace all value after 5 with 100\n",
        "arr2"
      ],
      "metadata": {
        "colab": {
          "base_uri": "https://localhost:8080/"
        },
        "id": "ySplc8ekBPC8",
        "outputId": "58ad8191-438f-4029-f60a-bc8f057d75a9"
      },
      "execution_count": null,
      "outputs": [
        {
          "output_type": "execute_result",
          "data": {
            "text/plain": [
              "array([  1,   2,   3,   4,   5, 100, 100, 100, 100, 100])"
            ]
          },
          "metadata": {},
          "execution_count": 56
        }
      ]
    },
    {
      "cell_type": "markdown",
      "source": [
        "**Note**:\n",
        "**array** is reference type\n",
        "meand"
      ],
      "metadata": {
        "id": "BCER57qTCBwH"
      }
    },
    {
      "cell_type": "code",
      "source": [
        "A1 = np.arange(1, 10)\n",
        "A1\n"
      ],
      "metadata": {
        "colab": {
          "base_uri": "https://localhost:8080/"
        },
        "id": "e8k5hsDTBh8d",
        "outputId": "a5b52771-d06d-496c-8594-ca7a0527cd8c"
      },
      "execution_count": null,
      "outputs": [
        {
          "output_type": "execute_result",
          "data": {
            "text/plain": [
              "array([1, 2, 3, 4, 5, 6, 7, 8, 9])"
            ]
          },
          "metadata": {},
          "execution_count": 58
        }
      ]
    },
    {
      "cell_type": "code",
      "source": [
        "A2 = A1\n",
        "A2\n",
        "\n",
        "#now change the value of A2\n",
        "A2[6: ] = 200\n",
        "print(A2)\n",
        "\n",
        "#now check the A1\n",
        "print(A1)\n",
        "\n",
        "# See it change also in the A1 array: it means it is passed with the reference\n"
      ],
      "metadata": {
        "colab": {
          "base_uri": "https://localhost:8080/"
        },
        "id": "LCP0_Yg0CMwl",
        "outputId": "0feab64a-3b95-4bd6-f9db-ead0a5aeb59f"
      },
      "execution_count": null,
      "outputs": [
        {
          "output_type": "stream",
          "name": "stdout",
          "text": [
            "[  1   2   3   4   5   6 200 200 200]\n",
            "[  1   2   3   4   5   6 200 200 200]\n"
          ]
        }
      ]
    },
    {
      "cell_type": "markdown",
      "source": [
        "**we can prevent this by using copy function **"
      ],
      "metadata": {
        "id": "0ECl0jv4CtV5"
      }
    },
    {
      "cell_type": "code",
      "source": [
        "A3 = A1.copy()\n",
        "print(A1)\n",
        "print(A3)\n",
        "\n",
        "#now make changes in A3 and see if it is changing in A1 or not\n",
        "A3[5: ] = 500\n",
        "\n",
        "print(\"\\n After use of copy\\n\")\n",
        "print(A1)\n",
        "print(A3)"
      ],
      "metadata": {
        "colab": {
          "base_uri": "https://localhost:8080/"
        },
        "id": "TLVjYrqeCtFL",
        "outputId": "90adf8ff-aa87-4ea5-91c9-3d89190aaf0b"
      },
      "execution_count": null,
      "outputs": [
        {
          "output_type": "stream",
          "name": "stdout",
          "text": [
            "[  1   2   3   4   5   6 200 200 200]\n",
            "[  1   2   3   4   5   6 200 200 200]\n",
            "\n",
            " After use of copy\n",
            "\n",
            "[  1   2   3   4   5   6 200 200 200]\n",
            "[  1   2   3   4   5 500 500 500 500]\n"
          ]
        }
      ]
    },
    {
      "cell_type": "markdown",
      "source": [
        "**Exploratory Data Analysis **"
      ],
      "metadata": {
        "id": "Z2V6aAB1DkVS"
      }
    },
    {
      "cell_type": "code",
      "source": [
        "val = 2\n",
        "\n",
        "EDArray = np.arange(1, 11)\n",
        "print(EDArray)\n",
        "\n",
        "\n",
        "# 1. check < operator\n",
        "print(EDArray < 5)  # check all values of array if it is less then 5 then return true else false\n",
        "\n",
        "# 1.1 if we need that all element less then 5\n",
        "print(EDArray[EDArray < 5])\n",
        "\n",
        "# 2. * all element by 2\n",
        "\n",
        "print(EDArray*2)"
      ],
      "metadata": {
        "colab": {
          "base_uri": "https://localhost:8080/"
        },
        "id": "unnnqZHQDovD",
        "outputId": "1221d6c5-6f34-420e-de61-b711ea3d4f6d"
      },
      "execution_count": null,
      "outputs": [
        {
          "output_type": "stream",
          "name": "stdout",
          "text": [
            "[ 1  2  3  4  5  6  7  8  9 10]\n",
            "[ True  True  True  True False False False False False False]\n",
            "[1 2 3 4]\n",
            "[ 2  4  6  8 10 12 14 16 18 20]\n"
          ]
        }
      ]
    },
    {
      "cell_type": "code",
      "source": [
        "Arr1 = np.arange(1, 10, dtype=float)\n",
        "Arr2 = np.arange(1, 10)\n",
        "\n",
        "Arr3 = np.array([Arr1, Arr2])\n",
        "print(\"Arr3 \\n\", Arr3)\n",
        "\n",
        "Arr4 = Arr3* Arr3\n",
        "print(\"Arr4 \\n\",Arr4)"
      ],
      "metadata": {
        "colab": {
          "base_uri": "https://localhost:8080/"
        },
        "id": "Y4Z--B2REvpO",
        "outputId": "24515446-4ac0-4b30-ad73-899964f0dd9e"
      },
      "execution_count": null,
      "outputs": [
        {
          "output_type": "stream",
          "name": "stdout",
          "text": [
            "Arr3 \n",
            " [[1. 2. 3. 4. 5. 6. 7. 8. 9.]\n",
            " [1. 2. 3. 4. 5. 6. 7. 8. 9.]]\n",
            "Arr4 \n",
            " [[ 1.  4.  9. 16. 25. 36. 49. 64. 81.]\n",
            " [ 1.  4.  9. 16. 25. 36. 49. 64. 81.]]\n"
          ]
        }
      ]
    },
    {
      "cell_type": "markdown",
      "source": [
        "**Random** selcts random values each time"
      ],
      "metadata": {
        "id": "cxjT8e2EF4bK"
      }
    },
    {
      "cell_type": "code",
      "source": [
        "np.random.rand(2,2)"
      ],
      "metadata": {
        "colab": {
          "base_uri": "https://localhost:8080/"
        },
        "id": "vZS5JDjuF36x",
        "outputId": "3f0dd848-0f22-46fb-ec65-8bcfbbb07f0c"
      },
      "execution_count": null,
      "outputs": [
        {
          "output_type": "execute_result",
          "data": {
            "text/plain": [
              "array([[0.95528762, 0.12659168],\n",
              "       [0.94675405, 0.62187446]])"
            ]
          },
          "metadata": {},
          "execution_count": 92
        }
      ]
    },
    {
      "cell_type": "code",
      "source": [
        "arra_ex = np.random.randn(4, 4)\n",
        "arra_ex"
      ],
      "metadata": {
        "colab": {
          "base_uri": "https://localhost:8080/"
        },
        "id": "sMSCg2nAGFZu",
        "outputId": "eef9de2a-8f14-4e17-d374-58f444c6c7de"
      },
      "execution_count": null,
      "outputs": [
        {
          "output_type": "execute_result",
          "data": {
            "text/plain": [
              "array([[-1.04776025,  0.33436623,  1.66575547, -0.35033921],\n",
              "       [-0.46314374,  0.3043903 , -0.43402299,  0.67331286],\n",
              "       [ 2.10149948, -0.40140258, -0.78568369, -2.11497393],\n",
              "       [-0.07559214, -1.0738161 ,  0.98310239, -0.62453809]])"
            ]
          },
          "metadata": {},
          "execution_count": 96
        }
      ]
    },
    {
      "cell_type": "markdown",
      "source": [
        "seaborn"
      ],
      "metadata": {
        "id": "SiCfEDcxGVj3"
      }
    },
    {
      "cell_type": "code",
      "source": [
        "import seaborn as sns\n",
        "import pandas as pd"
      ],
      "metadata": {
        "id": "P2lCJnMhGXFU"
      },
      "execution_count": null,
      "outputs": []
    },
    {
      "cell_type": "code",
      "source": [
        "sns.distplot(pd.DataFrame(arra_ex.reshape(16,1)))"
      ],
      "metadata": {
        "colab": {
          "base_uri": "https://localhost:8080/",
          "height": 645
        },
        "id": "9sGmleP3GZez",
        "outputId": "94eea851-6984-41ff-f0b3-ce87778b66f0"
      },
      "execution_count": null,
      "outputs": [
        {
          "output_type": "stream",
          "name": "stderr",
          "text": [
            "<ipython-input-99-0db57fe5bf5a>:1: UserWarning: \n",
            "\n",
            "`distplot` is a deprecated function and will be removed in seaborn v0.14.0.\n",
            "\n",
            "Please adapt your code to use either `displot` (a figure-level function with\n",
            "similar flexibility) or `histplot` (an axes-level function for histograms).\n",
            "\n",
            "For a guide to updating your code to use the new functions, please see\n",
            "https://gist.github.com/mwaskom/de44147ed2974457ad6372750bbe5751\n",
            "\n",
            "  sns.distplot(pd.DataFrame(arra_ex.reshape(16,1)))\n"
          ]
        },
        {
          "output_type": "execute_result",
          "data": {
            "text/plain": [
              "<Axes: ylabel='Density'>"
            ]
          },
          "metadata": {},
          "execution_count": 99
        },
        {
          "output_type": "display_data",
          "data": {
            "text/plain": [
              "<Figure size 640x480 with 1 Axes>"
            ],
            "image/png": "[encoded data removed]"
          },
          "metadata": {}
        }
      ]
    },
    {
      "cell_type": "code",
      "source": [
        "np.random.randint(1, 100, 10).reshape(5,2)"
      ],
      "metadata": {
        "colab": {
          "base_uri": "https://localhost:8080/"
        },
        "id": "W06q1D6oG3TH",
        "outputId": "de3163fc-b387-4fc2-9666-8a9b6699a6ad"
      },
      "execution_count": null,
      "outputs": [
        {
          "output_type": "execute_result",
          "data": {
            "text/plain": [
              "array([[ 7, 97],\n",
              "       [ 9, 54],\n",
              "       [61, 75],\n",
              "       [ 7, 99],\n",
              "       [54, 33]])"
            ]
          },
          "metadata": {},
          "execution_count": 102
        }
      ]
    },
    {
      "cell_type": "code",
      "source": [
        "np.random.random_sample((1, 5)) # values btw 0 -1"
      ],
      "metadata": {
        "colab": {
          "base_uri": "https://localhost:8080/"
        },
        "id": "KqAz2wEbG_13",
        "outputId": "2d36a288-0e02-4641-99da-23ae4ca33c77"
      },
      "execution_count": null,
      "outputs": [
        {
          "output_type": "execute_result",
          "data": {
            "text/plain": [
              "array([[0.99074803, 0.7628839 , 0.29482895, 0.80080369, 0.40255645]])"
            ]
          },
          "metadata": {},
          "execution_count": 105
        }
      ]
    }
  ]
}